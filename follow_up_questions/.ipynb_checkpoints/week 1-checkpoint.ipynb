{
 "cells": [
  {
   "cell_type": "markdown",
   "metadata": {},
   "source": [
    "## Underscores"
   ]
  },
  {
   "cell_type": "markdown",
   "metadata": {},
   "source": [
    "In truth we won't worry much about underscores, though I wanted to provide a bit of info on their use Python, specifically in relation to the double underscored attribuets and methods we saw running the dir() function."
   ]
  },
  {
   "cell_type": "markdown",
   "metadata": {},
   "source": [
    "#### Double Underscore\n",
    "* these refer to \"magic methods\", meaning python uses them behind the scenes and in most cases we don't generally want to alter or change how they function it.  think of them as python setting up some nuts and bolts to make your programs run\n",
    "* for instance lists and integers (among other datatypes) can be added together using the + symbol or \\_\\_add\\_\\_.  Though using the symbol is far easier.  In this case, when we do list + list, the + sign tells python to call the \\_\\_add\\_\\_ method.\n",
    "* \\_\\_init\\_\\_ is the initialization method for an object, which will will use, but not alter the functionality of\n",
    "* \\_\\_iter\\_\\_ is used to return an iteration, so this is a method that iterators make use of\n",
    "* \\_\\_new\\_\\_ is called to make a new object and used by the \\_\\_init\\_\\_ method\n",
    "* for brevity I will leave it there, but these aren't something we'll need to be altering the functionality"
   ]
  },
  {
   "cell_type": "code",
   "execution_count": 55,
   "metadata": {},
   "outputs": [
    {
     "data": {
      "text/plain": [
       "[1, 2, 3, 4]"
      ]
     },
     "execution_count": 55,
     "metadata": {},
     "output_type": "execute_result"
    }
   ],
   "source": [
    "a = [1,2]\n",
    "b = [3,4]\n",
    "a + b"
   ]
  },
  {
   "cell_type": "code",
   "execution_count": 56,
   "metadata": {},
   "outputs": [
    {
     "data": {
      "text/plain": [
       "[1, 2, 3, 4]"
      ]
     },
     "execution_count": 56,
     "metadata": {},
     "output_type": "execute_result"
    }
   ],
   "source": [
    "a.__add__(b)"
   ]
  },
  {
   "cell_type": "markdown",
   "metadata": {},
   "source": [
    "to the second point, there isn't a great way to tell the difference between methods and attributes in dir(), though we can make use of the getmembers function from inspect.  we can see that methods like extend, append etc. are listed as functions"
   ]
  },
  {
   "cell_type": "code",
   "execution_count": 57,
   "metadata": {},
   "outputs": [],
   "source": [
    "from inspect import getmembers"
   ]
  },
  {
   "cell_type": "code",
   "execution_count": 58,
   "metadata": {
    "scrolled": true
   },
   "outputs": [
    {
     "data": {
      "text/plain": [
       "[('__add__', <method-wrapper '__add__' of list object at 0x7fe0b8c1f6e0>),\n",
       " ('__class__', list),\n",
       " ('__contains__',\n",
       "  <method-wrapper '__contains__' of list object at 0x7fe0b8c1f6e0>),\n",
       " ('__delattr__',\n",
       "  <method-wrapper '__delattr__' of list object at 0x7fe0b8c1f6e0>),\n",
       " ('__delitem__',\n",
       "  <method-wrapper '__delitem__' of list object at 0x7fe0b8c1f6e0>),\n",
       " ('__dir__', <function list.__dir__()>),\n",
       " ('__doc__',\n",
       "  'Built-in mutable sequence.\\n\\nIf no argument is given, the constructor creates a new empty list.\\nThe argument must be an iterable if specified.'),\n",
       " ('__eq__', <method-wrapper '__eq__' of list object at 0x7fe0b8c1f6e0>),\n",
       " ('__format__', <function list.__format__(format_spec, /)>),\n",
       " ('__ge__', <method-wrapper '__ge__' of list object at 0x7fe0b8c1f6e0>),\n",
       " ('__getattribute__',\n",
       "  <method-wrapper '__getattribute__' of list object at 0x7fe0b8c1f6e0>),\n",
       " ('__getitem__', <function list.__getitem__>),\n",
       " ('__gt__', <method-wrapper '__gt__' of list object at 0x7fe0b8c1f6e0>),\n",
       " ('__hash__', None),\n",
       " ('__iadd__', <method-wrapper '__iadd__' of list object at 0x7fe0b8c1f6e0>),\n",
       " ('__imul__', <method-wrapper '__imul__' of list object at 0x7fe0b8c1f6e0>),\n",
       " ('__init__', <method-wrapper '__init__' of list object at 0x7fe0b8c1f6e0>),\n",
       " ('__init_subclass__', <function list.__init_subclass__>),\n",
       " ('__iter__', <method-wrapper '__iter__' of list object at 0x7fe0b8c1f6e0>),\n",
       " ('__le__', <method-wrapper '__le__' of list object at 0x7fe0b8c1f6e0>),\n",
       " ('__len__', <method-wrapper '__len__' of list object at 0x7fe0b8c1f6e0>),\n",
       " ('__lt__', <method-wrapper '__lt__' of list object at 0x7fe0b8c1f6e0>),\n",
       " ('__mul__', <method-wrapper '__mul__' of list object at 0x7fe0b8c1f6e0>),\n",
       " ('__ne__', <method-wrapper '__ne__' of list object at 0x7fe0b8c1f6e0>),\n",
       " ('__new__', <function list.__new__(*args, **kwargs)>),\n",
       " ('__reduce__', <function list.__reduce__()>),\n",
       " ('__reduce_ex__', <function list.__reduce_ex__(protocol, /)>),\n",
       " ('__repr__', <method-wrapper '__repr__' of list object at 0x7fe0b8c1f6e0>),\n",
       " ('__reversed__', <function list.__reversed__()>),\n",
       " ('__rmul__', <method-wrapper '__rmul__' of list object at 0x7fe0b8c1f6e0>),\n",
       " ('__setattr__',\n",
       "  <method-wrapper '__setattr__' of list object at 0x7fe0b8c1f6e0>),\n",
       " ('__setitem__',\n",
       "  <method-wrapper '__setitem__' of list object at 0x7fe0b8c1f6e0>),\n",
       " ('__sizeof__', <function list.__sizeof__()>),\n",
       " ('__str__', <method-wrapper '__str__' of list object at 0x7fe0b8c1f6e0>),\n",
       " ('__subclasshook__', <function list.__subclasshook__>),\n",
       " ('append', <function list.append(object, /)>),\n",
       " ('clear', <function list.clear()>),\n",
       " ('copy', <function list.copy()>),\n",
       " ('count', <function list.count(value, /)>),\n",
       " ('extend', <function list.extend(iterable, /)>),\n",
       " ('index', <function list.index(value, start=0, stop=9223372036854775807, /)>),\n",
       " ('insert', <function list.insert(index, object, /)>),\n",
       " ('pop', <function list.pop(index=-1, /)>),\n",
       " ('remove', <function list.remove(value, /)>),\n",
       " ('reverse', <function list.reverse()>),\n",
       " ('sort', <function list.sort(*, key=None, reverse=False)>)]"
      ]
     },
     "execution_count": 58,
     "metadata": {},
     "output_type": "execute_result"
    }
   ],
   "source": [
    "getmembers(lst)"
   ]
  },
  {
   "cell_type": "markdown",
   "metadata": {},
   "source": [
    "if we make a quick dummy class (we'll cover this in lecture 3), and give it an attribuet of name, we can see the tuple of attribuet name and value using the getmembers function."
   ]
  },
  {
   "cell_type": "code",
   "execution_count": 59,
   "metadata": {},
   "outputs": [
    {
     "data": {
      "text/plain": [
       "[('__class__', __main__.Dog),\n",
       " ('__delattr__',\n",
       "  <method-wrapper '__delattr__' of Dog object at 0x7fe08823d610>),\n",
       " ('__dict__', {'name': 'Brian'}),\n",
       " ('__dir__', <function Dog.__dir__()>),\n",
       " ('__doc__', None),\n",
       " ('__eq__', <method-wrapper '__eq__' of Dog object at 0x7fe08823d610>),\n",
       " ('__format__', <function Dog.__format__(format_spec, /)>),\n",
       " ('__ge__', <method-wrapper '__ge__' of Dog object at 0x7fe08823d610>),\n",
       " ('__getattribute__',\n",
       "  <method-wrapper '__getattribute__' of Dog object at 0x7fe08823d610>),\n",
       " ('__gt__', <method-wrapper '__gt__' of Dog object at 0x7fe08823d610>),\n",
       " ('__hash__', <method-wrapper '__hash__' of Dog object at 0x7fe08823d610>),\n",
       " ('__init__',\n",
       "  <bound method Dog.__init__ of <__main__.Dog object at 0x7fe08823d610>>),\n",
       " ('__init_subclass__', <function Dog.__init_subclass__>),\n",
       " ('__le__', <method-wrapper '__le__' of Dog object at 0x7fe08823d610>),\n",
       " ('__lt__', <method-wrapper '__lt__' of Dog object at 0x7fe08823d610>),\n",
       " ('__module__', '__main__'),\n",
       " ('__ne__', <method-wrapper '__ne__' of Dog object at 0x7fe08823d610>),\n",
       " ('__new__', <function object.__new__(*args, **kwargs)>),\n",
       " ('__reduce__', <function Dog.__reduce__()>),\n",
       " ('__reduce_ex__', <function Dog.__reduce_ex__(protocol, /)>),\n",
       " ('__repr__', <method-wrapper '__repr__' of Dog object at 0x7fe08823d610>),\n",
       " ('__setattr__',\n",
       "  <method-wrapper '__setattr__' of Dog object at 0x7fe08823d610>),\n",
       " ('__sizeof__', <function Dog.__sizeof__()>),\n",
       " ('__str__', <method-wrapper '__str__' of Dog object at 0x7fe08823d610>),\n",
       " ('__subclasshook__', <function Dog.__subclasshook__>),\n",
       " ('__weakref__', None),\n",
       " ('name', 'Brian')]"
      ]
     },
     "execution_count": 59,
     "metadata": {},
     "output_type": "execute_result"
    }
   ],
   "source": [
    "class Dog:\n",
    "    def __init__(self, name):\n",
    "        self.name = name\n",
    "        \n",
    "d = Dog(name = \"Brian\")\n",
    "getmembers(d)"
   ]
  },
  {
   "cell_type": "markdown",
   "metadata": {},
   "source": [
    "The underscore is also used in python from a formatting perspective, in some cases to mean \"throwaway.\"  Below we are saying we don't care about 2, or the middle value.  the variable is technically declared but it's pythonic to see this as, it's not going to be relevant info to our program"
   ]
  },
  {
   "cell_type": "code",
   "execution_count": 152,
   "metadata": {},
   "outputs": [
    {
     "name": "stdout",
     "output_type": "stream",
     "text": [
      "1\n",
      "2\n",
      "3\n"
     ]
    }
   ],
   "source": [
    "x, _, y = (1, 2, 3)\n",
    "print(x)\n",
    "print(_)\n",
    "print(y)"
   ]
  },
  {
   "cell_type": "markdown",
   "metadata": {},
   "source": [
    "while the _ is being used as the iteration variable,  it's pythonic to mean we don't actually care about the values in the range(10)"
   ]
  },
  {
   "cell_type": "code",
   "execution_count": 146,
   "metadata": {},
   "outputs": [
    {
     "name": "stdout",
     "output_type": "stream",
     "text": [
      "0\n",
      "1\n",
      "2\n",
      "3\n",
      "4\n",
      "5\n",
      "6\n",
      "7\n",
      "8\n",
      "9\n"
     ]
    }
   ],
   "source": [
    "for _ in range(10):\n",
    "    print(_)"
   ]
  },
  {
   "cell_type": "code",
   "execution_count": 1,
   "metadata": {},
   "outputs": [],
   "source": [
    "# for _ in range(10):\n",
    "    # do something 10 times, but we don't  need the 1,2,3,4, etc."
   ]
  },
  {
   "cell_type": "markdown",
   "metadata": {},
   "source": [
    "the same holds here, we as we are saying, we don't really care about what the function is returning"
   ]
  },
  {
   "cell_type": "code",
   "execution_count": 148,
   "metadata": {},
   "outputs": [],
   "source": [
    "def my_func():\n",
    "    return 2"
   ]
  },
  {
   "cell_type": "code",
   "execution_count": 151,
   "metadata": {},
   "outputs": [],
   "source": [
    "_  = my_func()"
   ]
  },
  {
   "cell_type": "markdown",
   "metadata": {},
   "source": [
    "if you want to get rather in depth, you can look up name mangling in python, which is another use of underscores when making classes, but something outside the scope of this class"
   ]
  },
  {
   "cell_type": "markdown",
   "metadata": {},
   "source": [
    "## pass vs. continue"
   ]
  },
  {
   "cell_type": "markdown",
   "metadata": {},
   "source": [
    "remember continue will throw us to the next iteration task of the current interation"
   ]
  },
  {
   "cell_type": "code",
   "execution_count": 5,
   "metadata": {},
   "outputs": [
    {
     "name": "stdout",
     "output_type": "stream",
     "text": [
      "---------------------------------------------------------------------------\n",
      "First Loop:1\n",
      "Outer loop iteration count:1\n",
      "---------------------------------------------------------------------------\n",
      "First Loop:[3, 4]\n",
      "Second Loop:4\n",
      "Outer loop iteration count:2\n"
     ]
    }
   ],
   "source": [
    "a = [1,[3,4]]\n",
    "c_outer = 0\n",
    "\n",
    "for i in a:\n",
    "    \n",
    "    # this just prints the first element of our list\n",
    "    # initially the value is 1\n",
    "    print(\"-\"*75) # divide up our outer loop printing\n",
    "    print(\"First Loop:{}\".format(i))\n",
    "    \n",
    "    # since the first value of the list a is a number\n",
    "    # this will be false and we will go to the else which is a pass\n",
    "    # so we increment the counter and print the last statement \n",
    "    # but when i = [3,4] we drop into the second loop\n",
    "    if isinstance(i, list):\n",
    "        \n",
    "        # consider we are on element 2 where\n",
    "        # i = [3,4]\n",
    "        for i2 in i:\n",
    "            # initially i2 is 3\n",
    "            # so we continue\n",
    "            # this will go back up to the line\n",
    "            # for i2 in i (the current loop we are in)\n",
    "            # and finish the iteration of [3,4]\n",
    "            # notice that the continue here\n",
    "            # doesen't put us back to for i in a\n",
    "            # it puts us back to the current iteration loop\n",
    "            # we can see this because c_outer is incremented and printed\n",
    "            if i2 == 3:\n",
    "                continue\n",
    "            else:\n",
    "                print(\"Second Loop:{}\".format(i2))\n",
    "            \n",
    "    # in this case it's a continue\n",
    "    # so notice the next piece of the code is not executed\n",
    "    else:\n",
    "        pass\n",
    "        \n",
    "    c_outer+=1\n",
    "    print(\"Outer loop iteration count:{}\".format(c_outer))"
   ]
  },
  {
   "cell_type": "markdown",
   "metadata": {},
   "source": [
    "if we change the bottom else to continue, we see for the first iteration loop, we skip the c_outer incrementing and skip the printing of that value"
   ]
  },
  {
   "cell_type": "code",
   "execution_count": 4,
   "metadata": {},
   "outputs": [
    {
     "name": "stdout",
     "output_type": "stream",
     "text": [
      "---------------------------------------------------------------------------\n",
      "First Loop:1\n",
      "---------------------------------------------------------------------------\n",
      "First Loop:[3, 4]\n",
      "Second Loop:4\n",
      "Outer loop iteration count:1\n"
     ]
    }
   ],
   "source": [
    "a = [1,[3,4]]\n",
    "c_outer = 0\n",
    "\n",
    "for i in a:\n",
    "    \n",
    "    # this just prints the first element of our list\n",
    "    # initially the value is 1\n",
    "    print(\"-\"*75)\n",
    "    print(\"First Loop:{}\".format(i))\n",
    "    \n",
    "    # since the first value of the list a is a number\n",
    "    # this will be false and we will go to the else which is a pass\n",
    "    # so we increment the counter and print the last statement \n",
    "    # but when i = [3,4] we drop into the second loop\n",
    "    if isinstance(i, list):\n",
    "        \n",
    "        # consider we are on element 2 where\n",
    "        # i = [3,4]\n",
    "        for i2 in i:\n",
    "            # initially i2 is 3\n",
    "            # so we continue\n",
    "            # this will go back up to the line\n",
    "            # for i2 in i\n",
    "            # and finish the iteration of [3,4]\n",
    "            # notice that the continue here\n",
    "            # doesen't put us back to for i in a\n",
    "            # it puts us back to the current iteration loop\n",
    "            # most nested or lowest level\n",
    "            if i2 == 3:\n",
    "                continue\n",
    "            else:\n",
    "                print(\"Second Loop:{}\".format(i2))\n",
    "            \n",
    "    # in this case it's a continue\n",
    "    # so notice the next piece of the code is not executed\n",
    "    \n",
    "    # if we change this to continue, when i initially is 1\n",
    "    # the loop will shoot back up to for i in a and continue\n",
    "    # missine the bottom  print and counter increment\n",
    "    # so in this sence, we only partially complete the outer loop\n",
    "    else:\n",
    "        continue\n",
    "        \n",
    "    c_outer+=1\n",
    "    print(\"Outer loop iteration count:{}\".format(c_outer))\n",
    "    "
   ]
  },
  {
   "cell_type": "markdown",
   "metadata": {},
   "source": [
    "control flow of a loop can be tricky.  the best way to learn it will be to write some loops and print output so you can visually trace what is happening"
   ]
  },
  {
   "cell_type": "markdown",
   "metadata": {},
   "source": [
    "## quick overview of comprehension\n",
    "these are just concise and speed efficient ways to right for loops"
   ]
  },
  {
   "cell_type": "code",
   "execution_count": 7,
   "metadata": {},
   "outputs": [
    {
     "data": {
      "text/plain": [
       "[0, 1, 2, 3, 4, 5, 6, 7, 8, 9]"
      ]
     },
     "execution_count": 7,
     "metadata": {},
     "output_type": "execute_result"
    }
   ],
   "source": [
    "lst = []\n",
    "for i in range(10):\n",
    "    lst.append(i)\n",
    "lst"
   ]
  },
  {
   "cell_type": "markdown",
   "metadata": {},
   "source": [
    "notice to wording is basically the same, just ordered a bit differently and put on one line"
   ]
  },
  {
   "cell_type": "code",
   "execution_count": 8,
   "metadata": {},
   "outputs": [],
   "source": [
    "# as a comprehension\n",
    "lst = [i for i in range(10)]"
   ]
  },
  {
   "cell_type": "markdown",
   "metadata": {},
   "source": [
    "we are compacking the for loop syntax into brackets (meaning we are using comprehension to make a list).  we could also use comprehensions to make a tuple or dictionary.  simply put, comprehensions let us compact our loop code and run more efficiently.  these will show up often as you continue to write and read python code"
   ]
  },
  {
   "cell_type": "code",
   "execution_count": 16,
   "metadata": {},
   "outputs": [
    {
     "name": "stdout",
     "output_type": "stream",
     "text": [
      "(0, 1, 2, 3, 4, 5, 6, 7, 8, 9)\n",
      "{0: 1, 1: 2, 2: 3, 3: 4, 4: 5, 5: 6, 6: 7, 7: 8, 8: 9, 9: 10}\n",
      "{0, 1, 2, 3, 4, 5, 6, 7, 8, 9}\n"
     ]
    }
   ],
   "source": [
    "# we can use other comprehensions with othere iterablees\n",
    "# like tuples or lists\n",
    "tup = tuple(i for i in range(10))\n",
    "print(tup)\n",
    "\n",
    "dct = dict((idx,i+1) for idx,i in enumerate(range(10)))\n",
    "print(dct)\n",
    "\n",
    "s = set(i for i in range(10))\n",
    "print(s)"
   ]
  },
  {
   "cell_type": "markdown",
   "metadata": {},
   "source": [
    "we can also apply functions with comprehensions"
   ]
  },
  {
   "cell_type": "code",
   "execution_count": 15,
   "metadata": {},
   "outputs": [
    {
     "data": {
      "text/plain": [
       "[1, 2, 3, 4]"
      ]
     },
     "execution_count": 15,
     "metadata": {},
     "output_type": "execute_result"
    }
   ],
   "source": [
    "lst = [-1,-2,-3,-4]\n",
    "a = [abs(x) for x in lst]\n",
    "a"
   ]
  },
  {
   "cell_type": "markdown",
   "metadata": {},
   "source": [
    "these techniques above, will make up the majority of coding within assignment 1.  we will cover them far more in our second lecture, but for those that want to get started ahead of time, the above should help"
   ]
  },
  {
   "cell_type": "markdown",
   "metadata": {},
   "source": [
    "## map, comprehensions, for loops and time\n",
    "* as we discussed runtime and concise code matters\n",
    "* most likely, there is going to be runtime gains when using comprehensions and map vs. loops\n",
    "* not to mention  you get the concise code with comprehension\n",
    "* Once you learn comprehensions, you will not bother thinking about using map much, as comprehensions are rather simple and efficient to run\n",
    "* plus, they are more pythonic\n",
    "* but the concept of mapping will come up later on using the multiprocessing library so it is important to understand the idea of \"mapping\" a function to a collection of data\n",
    "* the below prints out the seconds needed to run each chunk of code"
   ]
  },
  {
   "cell_type": "code",
   "execution_count": 19,
   "metadata": {},
   "outputs": [],
   "source": [
    "import time"
   ]
  },
  {
   "cell_type": "code",
   "execution_count": 45,
   "metadata": {},
   "outputs": [
    {
     "name": "stdout",
     "output_type": "stream",
     "text": [
      "0.24928903579711914\n"
     ]
    }
   ],
   "source": [
    "lst = list(range(10000000))\n",
    "start = time.time()\n",
    "a = list(map(abs,lst))\n",
    "end = time.time()\n",
    "print(end - start)"
   ]
  },
  {
   "cell_type": "code",
   "execution_count": 46,
   "metadata": {},
   "outputs": [
    {
     "name": "stdout",
     "output_type": "stream",
     "text": [
      "1.2070269584655762\n"
     ]
    }
   ],
   "source": [
    "lst = list(range(10000000))\n",
    "b = []\n",
    "start = time.time()\n",
    "for i in lst:\n",
    "    b.append(abs(i))\n",
    "end = time.time()\n",
    "print(end - start)"
   ]
  },
  {
   "cell_type": "code",
   "execution_count": 47,
   "metadata": {},
   "outputs": [
    {
     "name": "stdout",
     "output_type": "stream",
     "text": [
      "1.4653120040893555\n"
     ]
    }
   ],
   "source": [
    "lst = list(range(10000000))\n",
    "start = time.time()\n",
    "for idx,i in enumerate(lst):\n",
    "    lst[idx]= abs(i)\n",
    "end = time.time()\n",
    "print(end - start)"
   ]
  },
  {
   "cell_type": "code",
   "execution_count": 48,
   "metadata": {},
   "outputs": [
    {
     "name": "stdout",
     "output_type": "stream",
     "text": [
      "0.7413120269775391\n"
     ]
    }
   ],
   "source": [
    "# comprehension\n",
    "start = time.time()\n",
    "b = [abs(x) for x in list(range(10000000))]\n",
    "end = time.time()\n",
    "print(end - start)"
   ]
  },
  {
   "cell_type": "markdown",
   "metadata": {},
   "source": [
    "with a udf"
   ]
  },
  {
   "cell_type": "code",
   "execution_count": 50,
   "metadata": {},
   "outputs": [],
   "source": [
    "def my_func(x):\n",
    "    return abs(x)"
   ]
  },
  {
   "cell_type": "code",
   "execution_count": 51,
   "metadata": {},
   "outputs": [
    {
     "name": "stdout",
     "output_type": "stream",
     "text": [
      "0.8321022987365723\n"
     ]
    }
   ],
   "source": [
    "lst = list(range(10000000))\n",
    "start = time.time()\n",
    "a = list(map(my_func,lst))\n",
    "end = time.time()\n",
    "print(end - start)"
   ]
  },
  {
   "cell_type": "code",
   "execution_count": 52,
   "metadata": {},
   "outputs": [
    {
     "name": "stdout",
     "output_type": "stream",
     "text": [
      "1.619018793106079\n"
     ]
    }
   ],
   "source": [
    "lst = list(range(10000000))\n",
    "b = []\n",
    "start = time.time()\n",
    "for i in lst:\n",
    "    b.append(my_func(i))\n",
    "end = time.time()\n",
    "print(end - start)"
   ]
  },
  {
   "cell_type": "code",
   "execution_count": 53,
   "metadata": {},
   "outputs": [
    {
     "name": "stdout",
     "output_type": "stream",
     "text": [
      "1.9668538570404053\n"
     ]
    }
   ],
   "source": [
    "lst = list(range(10000000))\n",
    "start = time.time()\n",
    "for idx,i in enumerate(lst):\n",
    "    lst[idx]= my_func(i)\n",
    "end = time.time()\n",
    "print(end - start)"
   ]
  },
  {
   "cell_type": "code",
   "execution_count": 54,
   "metadata": {},
   "outputs": [
    {
     "name": "stdout",
     "output_type": "stream",
     "text": [
      "1.2628250122070312\n"
     ]
    }
   ],
   "source": [
    "start = time.time()\n",
    "b = [my_func(x) for x in list(range(10000000))]\n",
    "end = time.time()\n",
    "print(end - start)"
   ]
  },
  {
   "cell_type": "markdown",
   "metadata": {},
   "source": [
    "once you start working with larger datasets and writing more in depth programs, timing steps and keeping track of runtimes will be common.  as will be trying to find the most efficient way to write your code from a runtime and concise standpoint.  the above is a pretty simple example, but with a more complicated function or more complicated dataset, these functions may scale differently"
   ]
  },
  {
   "cell_type": "markdown",
   "metadata": {},
   "source": [
    "## dictionary searches\n",
    "* dictionaries aren't generally used to do nested searching\n",
    "* there is some nice functionality in pandas to do json_normalization, which will blow out the  json into  a dataframe, but we will ignore that for illustrative purposes"
   ]
  },
  {
   "cell_type": "code",
   "execution_count": 105,
   "metadata": {},
   "outputs": [
    {
     "name": "stdout",
     "output_type": "stream",
     "text": [
      "doritos\n",
      "lays\n",
      "lays\n"
     ]
    }
   ],
   "source": [
    "# if we know our keys, we might be making use of a dictionary like this, in a lookup fashion\n",
    "lookup = {\n",
    "    \"item_a\":\"doritos\",\n",
    "    \"item_b\":\"lays\"\n",
    "}\n",
    "\n",
    "for i in [\"item_a\", \"item_b\", \"item_b\"]:\n",
    "    print(lookup[i])"
   ]
  },
  {
   "cell_type": "markdown",
   "metadata": {},
   "source": [
    "to do some custom searching we can use a for loop or we can use list comprehension"
   ]
  },
  {
   "cell_type": "code",
   "execution_count": 110,
   "metadata": {},
   "outputs": [],
   "source": [
    "my_dict = {\n",
    "    \n",
    "    1:{\"first_name\":\"Brian\"},\n",
    "    2:{\"first_name\":\"Jane\", \"last_name\":\"Doe\"},\n",
    "    3:{\"first_name\":\"John\", \"last_name\":\"Doe2\"}\n",
    "}"
   ]
  },
  {
   "cell_type": "code",
   "execution_count": 114,
   "metadata": {},
   "outputs": [
    {
     "name": "stdout",
     "output_type": "stream",
     "text": [
      "2 {'first_name': 'Jane', 'last_name': 'Doe'}\n"
     ]
    }
   ],
   "source": [
    "# this does let us search that nested dictionary\n",
    "\n",
    "for k,v in my_dict.items():\n",
    "    # this is  saying if \"last_name\" is a key in our dictionary\n",
    "    # which in this case, v is one of those nested dictionaries\n",
    "    # and the last_name value is Doe, then print the k,v\n",
    "    if \"last_name\" in v and v[\"last_name\"] == \"Doe\":     \n",
    "        print(k,v)"
   ]
  },
  {
   "cell_type": "markdown",
   "metadata": {},
   "source": [
    "in this case comprehensions aren't as concise, but we can solve this writting a custom UDF and then throwing it in a comprehension"
   ]
  },
  {
   "cell_type": "code",
   "execution_count": 97,
   "metadata": {},
   "outputs": [
    {
     "data": {
      "text/plain": [
       "[1, 2, 3]"
      ]
     },
     "execution_count": 97,
     "metadata": {},
     "output_type": "execute_result"
    }
   ],
   "source": [
    "[k for k,v in my_dict.items()]"
   ]
  },
  {
   "cell_type": "code",
   "execution_count": 98,
   "metadata": {},
   "outputs": [
    {
     "data": {
      "text/plain": [
       "[{'first_name': 'Brian'},\n",
       " {'first_name': 'Jane', 'last_name': 'Doe'},\n",
       " {'first_name': 'John', 'last_name': 'Doe2'}]"
      ]
     },
     "execution_count": 98,
     "metadata": {},
     "output_type": "execute_result"
    }
   ],
   "source": [
    "[v for k,v in my_dict.items()]"
   ]
  },
  {
   "cell_type": "code",
   "execution_count": 160,
   "metadata": {},
   "outputs": [],
   "source": [
    "def my_func(k,v,search_term):\n",
    "    if \"last_name\" in v and v[\"last_name\"] == search_term:\n",
    "        return (k,v)\n",
    "    else:\n",
    "        return False"
   ]
  },
  {
   "cell_type": "code",
   "execution_count": 161,
   "metadata": {},
   "outputs": [
    {
     "data": {
      "text/plain": [
       "[False, (2, {'first_name': 'Jane', 'last_name': 'Doe'}), False]"
      ]
     },
     "execution_count": 161,
     "metadata": {},
     "output_type": "execute_result"
    }
   ],
   "source": [
    "search = \"Doe\"\n",
    "[my_func(k,v,search) for k,v in my_dict.items()]"
   ]
  },
  {
   "cell_type": "code",
   "execution_count": 162,
   "metadata": {},
   "outputs": [
    {
     "data": {
      "text/plain": [
       "[(2, {'first_name': 'Jane', 'last_name': 'Doe'})]"
      ]
     },
     "execution_count": 162,
     "metadata": {},
     "output_type": "execute_result"
    }
   ],
   "source": [
    "# the filter(None, iterable) filters False, None, empty items\n",
    "search = \"Doe\"\n",
    "list(filter(None, [my_func(k,v,search) for k,v in my_dict.items()]))"
   ]
  },
  {
   "cell_type": "code",
   "execution_count": null,
   "metadata": {},
   "outputs": [],
   "source": []
  }
 ],
 "metadata": {
  "kernelspec": {
   "display_name": "Python 3",
   "language": "python",
   "name": "python3"
  },
  "language_info": {
   "codemirror_mode": {
    "name": "ipython",
    "version": 3
   },
   "file_extension": ".py",
   "mimetype": "text/x-python",
   "name": "python",
   "nbconvert_exporter": "python",
   "pygments_lexer": "ipython3",
   "version": "3.7.4"
  }
 },
 "nbformat": 4,
 "nbformat_minor": 2
}
