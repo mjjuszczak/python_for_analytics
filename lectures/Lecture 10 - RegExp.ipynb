{
 "cells": [
  {
   "cell_type": "markdown",
   "metadata": {},
   "source": [
    "# Regular Expressions"
   ]
  },
  {
   "cell_type": "markdown",
   "metadata": {},
   "source": [
    "Regular expressions are a mini-language, used to parse and extract information from strings.\n",
    "\n",
    "### Motivation: slicing vs split vs regex\n",
    "\n",
    "Given a strings, such as:\n",
    "\n",
    "\"01/09/2008\", \"05/12/2012\"\n",
    "\n",
    "we know we can get extract the year this way:"
   ]
  },
  {
   "cell_type": "code",
   "execution_count": 33,
   "metadata": {},
   "outputs": [
    {
     "name": "stdout",
     "output_type": "stream",
     "text": [
      "2008\n",
      "2012\n"
     ]
    }
   ],
   "source": [
    "dates = [\"01/09/2008\", \"05/12/2012\"]\n",
    "\n",
    "for d in dates:\n",
    "    print(d[-4:]) # use normal indexing"
   ]
  },
  {
   "cell_type": "markdown",
   "metadata": {},
   "source": [
    "If we had a strings, such as:\n",
    "\n",
    "\"In the year 2008 we did such as such\"\n",
    "\"After the year 2009 we continued something else\"\n",
    "\n",
    "We can no longer use slicing, but we can just split the string and get the 4th value to get the year:"
   ]
  },
  {
   "cell_type": "code",
   "execution_count": 34,
   "metadata": {},
   "outputs": [
    {
     "name": "stdout",
     "output_type": "stream",
     "text": [
      "2008\n",
      "2009\n"
     ]
    }
   ],
   "source": [
    "sentences = [\"In the year 2008 we did such as such\"\n",
    "             , \"After the year 2009 we continued something else\"]\n",
    "\n",
    "for s in sentences:\n",
    "    print(s.split(\" \")[3])"
   ]
  },
  {
   "cell_type": "markdown",
   "metadata": {},
   "source": [
    "How do we extract dates in the following sentences?\n",
    "\n",
    "\"2019: After the Fall of New York\"\n",
    "\n",
    "\"The exterminators of the year 3000\"\n",
    "\n",
    "\"1990: The Bronx Warriors\"\n",
    "\n",
    "The first inclination of novice programmers would be to split the movie title above, go through each title and check to see if it is just numbers. If it is, extract that token as the year.\n",
    "\n",
    "This pattern of coding comes up so often that there is a special way of extracting such information: regular expressions!"
   ]
  },
  {
   "cell_type": "code",
   "execution_count": 10,
   "metadata": {},
   "outputs": [
    {
     "name": "stdout",
     "output_type": "stream",
     "text": [
      "2019\n",
      "3000\n",
      "1990\n"
     ]
    }
   ],
   "source": [
    "import re # <= regular expression library\n",
    "\n",
    "movies = [\"2019: After the Fall of New York\"\n",
    "          , \"The exterminators of the year 3000\"\n",
    "          , \"1990: The Bronx Warriors\"]\n",
    "\n",
    "for m in movies:\n",
    "    print(re.search(\"(\\d\\d\\d\\d)\", m).group(0))"
   ]
  },
  {
   "cell_type": "markdown",
   "metadata": {},
   "source": [
    "**...what??**\n",
    "\n",
    "Some people don't like regular expressions:\n",
    "\n",
    "> Some people, when confronted with a problem, think\n",
    "“I know, I'll use regular expressions.”   Now they have two problems.\n",
    "\n",
    "\n",
    "- Jamie Zawinski"
   ]
  },
  {
   "cell_type": "markdown",
   "metadata": {},
   "source": [
    "## Regular expressions in context\n",
    "\n",
    "Regular expressions were invented, in their modern form, in 1951 by Stephen Kleene. They have their roots in theoretical computer science, although they have extremely useful as a text parsing tool.\n",
    "\n",
    "Practically every language has regular expressions built-in. They are often super optimized and always expressed in an archaic syntax.\n",
    "\n",
    "Regular expressiosn allow you to use basic components to parse a language. Here are some pseudo-code examples of regex expressions:\n",
    "\n",
    "Find all characters which are digits\n",
    "\n",
    "Find all characters which are digits, followed by another digit\n",
    "\n",
    "Find all characters which are at the beginning of a line, are of one of the following characters: [,.!;:], followed by 3 digits, followed by a comma, followed by three characters which are NOT digits"
   ]
  },
  {
   "cell_type": "markdown",
   "metadata": {},
   "source": [
    "## Sample regular expressions"
   ]
  },
  {
   "cell_type": "code",
   "execution_count": 31,
   "metadata": {},
   "outputs": [
    {
     "name": "stdout",
     "output_type": "stream",
     "text": [
      "Match starts at 9 ends at 10 and contains 3\n",
      "Match starts at 10 ends at 11 and contains 8\n",
      "Match starts at 32 ends at 33 and contains 3\n",
      "Match starts at 33 ends at 34 and contains 6\n",
      "Match starts at 54 ends at 55 and contains 1\n",
      "Match starts at 55 ends at 56 and contains 0\n",
      "Match starts at 76 ends at 77 and contains 8\n",
      "Match starts at 102 ends at 103 and contains 3\n"
     ]
    }
   ],
   "source": [
    "ages = \"Homer is 38 years old, Marge is 36 years old, Bart is 10 years old, Lisa is 8 years old and Maggie is 3.\"\n",
    "\n",
    "# Task: Extract all ages\n",
    "# Thinking: Find all numbers\n",
    "# Regex pseudo code: find digits\n",
    "\n",
    "regex_attempt1 = \"(\\d)\" # <= Find digits\n",
    "\n",
    "for m in re.finditer(regex_attempt1, ages): \n",
    "    print(\"Match starts at\",m.start(), \"ends at\", m.end(), \"and contains\", m.group())"
   ]
  },
  {
   "cell_type": "code",
   "execution_count": 32,
   "metadata": {},
   "outputs": [
    {
     "name": "stdout",
     "output_type": "stream",
     "text": [
      "Match starts at 9 ends at 11 and contains 38\n",
      "Match starts at 32 ends at 34 and contains 36\n",
      "Match starts at 54 ends at 56 and contains 10\n",
      "Match starts at 76 ends at 77 and contains 8\n",
      "Match starts at 102 ends at 103 and contains 3\n"
     ]
    }
   ],
   "source": [
    "# Task: Extract all ages\n",
    "# Thinking: Find all numbers\n",
    "# Regex pseudo code: find digits, clump consecutive digits together\n",
    "\n",
    "regex_attempt1 = \"(\\d+)\" # <= Find digits and 1 or more repititions\n",
    "\n",
    "for m in re.finditer(regex_attempt1, ages): \n",
    "    print(\"Match starts at\",m.start(), \"ends at\", m.end(), \"and contains\", m.group())"
   ]
  },
  {
   "cell_type": "markdown",
   "metadata": {},
   "source": [
    "## Just use http://www.pyregex.com/ or https://www.debuggex.com/"
   ]
  },
  {
   "cell_type": "markdown",
   "metadata": {},
   "source": [
    "**Exercise** Extract area codes from the following phone numbers. _Must_ write a single regex which is able to extract regular expressions from the following numbers (in a loop):\n",
    "\n",
    "1-201-123-1234\n",
    "\n",
    "98-708-567-7890\n",
    "\n",
    "0-708-333-4444\n",
    "\n",
    "In the above numbers, the area codes are 201, 708 and 708, respectively."
   ]
  },
  {
   "cell_type": "code",
   "execution_count": 30,
   "metadata": {},
   "outputs": [
    {
     "name": "stdout",
     "output_type": "stream",
     "text": [
      "[]\n",
      "[]\n",
      "[]\n"
     ]
    }
   ],
   "source": [
    "area_code_regex = r\"type_correct_regex_expression_here\"\n",
    "\n",
    "for ac in [\"1-201-123-1234\", \"98-708-567-7890\", \"0-708-333-4444\"]:\n",
    "    print(re.findall(area_code_regex, ac))"
   ]
  },
  {
   "cell_type": "markdown",
   "metadata": {},
   "source": [
    "Hint: Look for the start of string, then one or more digits, then a dash, THEN the digits which contain our area code. Ignore the rest.\n"
   ]
  },
  {
   "cell_type": "markdown",
   "metadata": {},
   "source": [
    "## What regular expressions can't do\n",
    "\n",
    "Regular expressions are part of a theoretical framework which define languages. There are languages which are less or more powerful than regular expressions.\n",
    "\n",
    "For example, regular expressions are not able to correctly parse this expressions:\n",
    "\n",
    "`1 + (2 * (3 + 8))`\n",
    "\n",
    "In order to parse the expression above, after each left parenthesis, we would have to use recursion. Regular expressions are not designed to parse such recursive expressions.\n",
    "\n",
    "Practically speaking, although _many_ poeple attempt it, regular expressions are not the correct choise to parse html (web) pages or xml documents.\n",
    "\n",
    "Computer science students often learn about context free grammars. CFGs _can_ parse recursive strings and are often used to parse programming languages. Unfortunately, CFGs are out of scope for this course."
   ]
  },
  {
   "cell_type": "code",
   "execution_count": null,
   "metadata": {},
   "outputs": [],
   "source": []
  }
 ],
 "metadata": {
  "kernelspec": {
   "display_name": "Python 3",
   "language": "python",
   "name": "python3"
  },
  "language_info": {
   "codemirror_mode": {
    "name": "ipython",
    "version": 3
   },
   "file_extension": ".py",
   "mimetype": "text/x-python",
   "name": "python",
   "nbconvert_exporter": "python",
   "pygments_lexer": "ipython3",
   "version": "3.7.3"
  }
 },
 "nbformat": 4,
 "nbformat_minor": 2
}
